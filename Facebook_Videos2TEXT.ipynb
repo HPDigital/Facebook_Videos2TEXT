{
 "cells": [
  {
   "cell_type": "code",
   "execution_count": null,
   "id": "fbe18607-e875-4708-a121-7d394915fc97",
   "metadata": {},
   "outputs": [],
   "source": [
    "import moviepy.editor as mp\n",
    "import speech_recognition as sr\n",
    "import os\n",
    "\n",
    "def convertir_video_a_audio(video_path):\n",
    "    \"\"\"\n",
    "    Esta función extrae el audio de un video y lo guarda como archivo WAV.\n",
    "    \"\"\"\n",
    "    clip = mp.VideoFileClip(video_path)\n",
    "    audio_path = f\"{video_path}.wav\"\n",
    "    clip.audio.write_audiofile(audio_path, codec='pcm_s16le')  # codec para formato WAV\n",
    "    return audio_path\n",
    "\n",
    "def transcribir_audio_a_texto(audio_path):\n",
    "    \"\"\"\n",
    "    Esta función utiliza la biblioteca speech_recognition para transcribir el audio a texto.\n",
    "    \"\"\"\n",
    "    r = sr.Recognizer()\n",
    "    with sr.AudioFile(audio_path) as source:\n",
    "        audio_data = r.record(source)\n",
    "    try:\n",
    "        text = r.recognize_google(audio_data, language='es-ES')  # Asumiendo que el audio está en español\n",
    "        return text\n",
    "    except sr.UnknownValueError:\n",
    "        return \"Google Speech Recognition no pudo entender el audio\"\n",
    "    except sr.RequestError as e:\n",
    "        return f\"¿No se pudo solicitar resultados desde el servicio de Google Speech Recognition; {e}\"\n",
    "\n",
    "def procesar_video(video_path):\n",
    "    \"\"\"\n",
    "    Esta función orquesta la conversión de video a audio y luego la transcripción a texto.\n",
    "    \"\"\"\n",
    "    print(f\"Procesando video: {video_path}\")\n",
    "    audio_path = convertir_video_a_audio(video_path)\n",
    "    texto = transcribir_audio_a_texto(audio_path)\n",
    "    print(f\"Transcripción completada. Texto extraído: {texto[:500]}\")  # Imprime los primeros 500 caracteres\n",
    "\n",
    "    # Opcional: eliminar el archivo de audio para ahorrar espacio\n",
    "    os.remove(audio_path)\n",
    "\n",
    "# Asumiendo que tienes el video de Facebook descargado como \"video_de_facebook.mp4\"\n",
    "video_path = \"video_de_facebook.mp4\"\n",
    "procesar_video(video_path)\n"
   ]
  }
 ],
 "metadata": {
  "kernelspec": {
   "display_name": "Python 3 (ipykernel)",
   "language": "python",
   "name": "python3"
  },
  "language_info": {
   "codemirror_mode": {
    "name": "ipython",
    "version": 3
   },
   "file_extension": ".py",
   "mimetype": "text/x-python",
   "name": "python",
   "nbconvert_exporter": "python",
   "pygments_lexer": "ipython3",
   "version": "3.11.7"
  }
 },
 "nbformat": 4,
 "nbformat_minor": 5
}
